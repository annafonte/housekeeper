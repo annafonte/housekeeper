{
 "cells": [
  {
   "cell_type": "markdown",
   "metadata": {},
   "source": [
    "# The shared-house market in Europe"
   ]
  },
  {
   "cell_type": "markdown",
   "metadata": {},
   "source": [
    "## Libraries and documents"
   ]
  },
  {
   "cell_type": "code",
   "execution_count": 51,
   "metadata": {},
   "outputs": [],
   "source": [
    "import pandas as pd\n",
    "import regex as re\n",
    "import numpy as np\n",
    "\n",
    "import warnings\n",
    "warnings.filterwarnings('ignore')\n",
    "\n",
    "import matplotlib.pyplot as plt\n",
    "import seaborn as sns\n",
    "import plotly.graph_objects as px"
   ]
  },
  {
   "cell_type": "code",
   "execution_count": 57,
   "metadata": {},
   "outputs": [],
   "source": [
    "bcn = pd.read_csv(\"../housekeeper/bcn.csv\", header=None)\n",
    "madrid = pd.read_csv(\"../housekeeper/madrid.csv\", header=None)\n",
    "london = pd.read_csv(\"../housekeeper/london.csv\", header=None)\n",
    "berlin = pd.read_csv(\"../housekeeper/berlin.csv\", header=None)"
   ]
  },
  {
   "cell_type": "markdown",
   "metadata": {},
   "source": [
    "## Data processing"
   ]
  },
  {
   "cell_type": "code",
   "execution_count": 58,
   "metadata": {
    "scrolled": true
   },
   "outputs": [],
   "source": [
    "def df_processor(df, name):\n",
    "    \"\"\" Function that takes the df with the scraped information from each city and cleans it \"\"\"\n",
    "    \n",
    "    df = df.drop_duplicates() #Dropping duplicated\n",
    "    df.columns = [\"title\", \"price\", \"details\"] #Renaming columns\n",
    "\n",
    "    df[[\"room\", \"flatmates\"]] = df[\"details\"].str.split(\"·\", n=1, expand=True) # Splitting the details column\n",
    "\n",
    "    #The flatmates column\n",
    "    df[\"flatmates\"] = df[\"flatmates\"].str.rstrip(\" COMPANYS DE PIS\")#Deleting the str \"companys de pis\"\n",
    "\n",
    "    #The room column\n",
    "    df[\"room\"] = df[\"room\"].str.lower().str.strip() #Changing str as lowercase and removing whitespaces\n",
    "    df = df.drop(columns=\"details\") #Deleting the column\n",
    "\n",
    "    #Filtering only \"private room\" & \"shared room\" as we are interested in this kind\n",
    "    values = [\"habitació compartida\", \"habitació privada\"]\n",
    "    df = df.loc[df['room'].isin(values)].copy() #Creating a copy of the df\n",
    "    df[\"room\"] = df[\"room\"].replace(\"habitació privada\", \"private\").replace(\"habitació compartida\", \"shared\")\n",
    "\n",
    "    #Dealing with the prices column\n",
    "    df[\"price\"] = df[\"price\"].str.rstrip(\" €/mes\") #Deleting final string\n",
    "    df[\"price\"] = df[\"price\"].str.rstrip(\" £/mes\")\n",
    "    df[\"price\"] = df[\"price\"].str.rstrip(\" $/mes\")\n",
    "    df[\"price\"] = [re.sub(r'\\d...','', str(x)) for x in df[\"price\"]] #Deleting strikeout format string \n",
    "    df[\"price\"] = df[\"price\"].str.lstrip(\"€̶ \") #Deleting € symbols at the begining of str\n",
    "    df[\"price\"] = df[\"price\"].str.lstrip(\"£̶ \") \n",
    "    df[\"price\"] = df[\"price\"].replace('-', np.nan) #Replacing - symbol to NaN value\n",
    "\n",
    "    df = df.dropna() #Deleting rows with null values\n",
    "    df[[\"price\", \"flatmates\"]] = df[[\"price\", \"flatmates\"]].apply(pd.to_numeric) #Changing price and nº flatmates to numeric\n",
    "    df[\"flatmates\"] = df[\"flatmates\"].fillna(0) #Set nans to 0 for nº flatmates\n",
    "    df[\"flatmates\"] = df[\"flatmates\"].astype(int)\n",
    "    df[\"city\"] = name # Create column with city name for concatenating df later\n",
    "    \n",
    "    return df"
   ]
  },
  {
   "cell_type": "code",
   "execution_count": 59,
   "metadata": {},
   "outputs": [],
   "source": [
    "# Applying the function to the cities dfs\n",
    "bcn = df_processor(bcn, \"Barcelona\")\n",
    "madrid = df_processor(madrid, \"Madrid\")\n",
    "london = df_processor(london, \"London\")\n",
    "berlin = df_processor(berlin, \"Berlin\")\n",
    "\n",
    "#Concatenating the datasets into one for analysis\n",
    "datasets = [bcn, madrid, london, berlin]\n",
    "df = pd.concat(datasets).reset_index(drop=True)"
   ]
  },
  {
   "cell_type": "markdown",
   "metadata": {},
   "source": [
    "## Data analysis"
   ]
  },
  {
   "cell_type": "code",
   "execution_count": 98,
   "metadata": {
    "scrolled": true
   },
   "outputs": [
    {
     "data": {
      "image/png": "[encoded data removed]",
      "text/plain": [
       "<Figure size 432x288 with 1 Axes>"
      ]
     },
     "metadata": {
      "needs_background": "light"
     },
     "output_type": "display_data"
    }
   ],
   "source": [
    "df_1 = df.groupby([\"city\", \"room\"])[\"city\"].count().unstack(\"room\").fillna(0)\n",
    "df_1[['private','shared']].sort_values(by=\"private\", ascending=False).plot(kind='bar', stacked=True, colormap=\"tab20b\")\n",
    "plt.show()"
   ]
  },
  {
   "cell_type": "code",
   "execution_count": 119,
   "metadata": {},
   "outputs": [],
   "source": [
    "df_2 = df.groupby([\"city\", \"flatmates\"])[\"city\"].count().unstack(\"flatmates\").fillna(0)\n",
    "df_2[\"+10\"] = df_2.iloc[:, 10:21].sum(axis=1)"
   ]
  },
  {
   "cell_type": "code",
   "execution_count": 120,
   "metadata": {},
   "outputs": [
    {
     "data": {
      "text/html": [
       "<div>\n",
       "<style scoped>\n",
       "    .dataframe tbody tr th:only-of-type {\n",
       "        vertical-align: middle;\n",
       "    }\n",
       "\n",
       "    .dataframe tbody tr th {\n",
       "        vertical-align: top;\n",
       "    }\n",
       "\n",
       "    .dataframe thead th {\n",
       "        text-align: right;\n",
       "    }\n",
       "</style>\n",
       "<table border=\"1\" class=\"dataframe\">\n",
       "  <thead>\n",
       "    <tr style=\"text-align: right;\">\n",
       "      <th>flatmates</th>\n",
       "      <th>0</th>\n",
       "      <th>1</th>\n",
       "      <th>2</th>\n",
       "      <th>3</th>\n",
       "      <th>4</th>\n",
       "      <th>5</th>\n",
       "      <th>6</th>\n",
       "      <th>7</th>\n",
       "      <th>8</th>\n",
       "      <th>9</th>\n",
       "      <th>10</th>\n",
       "      <th>11</th>\n",
       "      <th>12</th>\n",
       "      <th>13</th>\n",
       "      <th>14</th>\n",
       "      <th>18</th>\n",
       "      <th>20</th>\n",
       "      <th>+10</th>\n",
       "    </tr>\n",
       "    <tr>\n",
       "      <th>city</th>\n",
       "      <th></th>\n",
       "      <th></th>\n",
       "      <th></th>\n",
       "      <th></th>\n",
       "      <th></th>\n",
       "      <th></th>\n",
       "      <th></th>\n",
       "      <th></th>\n",
       "      <th></th>\n",
       "      <th></th>\n",
       "      <th></th>\n",
       "      <th></th>\n",
       "      <th></th>\n",
       "      <th></th>\n",
       "      <th></th>\n",
       "      <th></th>\n",
       "      <th></th>\n",
       "      <th></th>\n",
       "    </tr>\n",
       "  </thead>\n",
       "  <tbody>\n",
       "    <tr>\n",
       "      <th>Barcelona</th>\n",
       "      <td>392.0</td>\n",
       "      <td>1619.0</td>\n",
       "      <td>2853.0</td>\n",
       "      <td>1638.0</td>\n",
       "      <td>504.0</td>\n",
       "      <td>100.0</td>\n",
       "      <td>61.0</td>\n",
       "      <td>20.0</td>\n",
       "      <td>13.0</td>\n",
       "      <td>5.0</td>\n",
       "      <td>5.0</td>\n",
       "      <td>0.0</td>\n",
       "      <td>2.0</td>\n",
       "      <td>4.0</td>\n",
       "      <td>2.0</td>\n",
       "      <td>0.0</td>\n",
       "      <td>0.0</td>\n",
       "      <td>13.0</td>\n",
       "    </tr>\n",
       "    <tr>\n",
       "      <th>Berlin</th>\n",
       "      <td>44.0</td>\n",
       "      <td>8.0</td>\n",
       "      <td>8.0</td>\n",
       "      <td>4.0</td>\n",
       "      <td>5.0</td>\n",
       "      <td>1.0</td>\n",
       "      <td>0.0</td>\n",
       "      <td>1.0</td>\n",
       "      <td>1.0</td>\n",
       "      <td>0.0</td>\n",
       "      <td>0.0</td>\n",
       "      <td>0.0</td>\n",
       "      <td>0.0</td>\n",
       "      <td>0.0</td>\n",
       "      <td>0.0</td>\n",
       "      <td>0.0</td>\n",
       "      <td>0.0</td>\n",
       "      <td>0.0</td>\n",
       "    </tr>\n",
       "    <tr>\n",
       "      <th>London</th>\n",
       "      <td>409.0</td>\n",
       "      <td>275.0</td>\n",
       "      <td>448.0</td>\n",
       "      <td>285.0</td>\n",
       "      <td>369.0</td>\n",
       "      <td>101.0</td>\n",
       "      <td>27.0</td>\n",
       "      <td>15.0</td>\n",
       "      <td>1.0</td>\n",
       "      <td>2.0</td>\n",
       "      <td>0.0</td>\n",
       "      <td>1.0</td>\n",
       "      <td>0.0</td>\n",
       "      <td>0.0</td>\n",
       "      <td>0.0</td>\n",
       "      <td>1.0</td>\n",
       "      <td>2.0</td>\n",
       "      <td>4.0</td>\n",
       "    </tr>\n",
       "    <tr>\n",
       "      <th>Madrid</th>\n",
       "      <td>311.0</td>\n",
       "      <td>1015.0</td>\n",
       "      <td>1715.0</td>\n",
       "      <td>874.0</td>\n",
       "      <td>305.0</td>\n",
       "      <td>69.0</td>\n",
       "      <td>44.0</td>\n",
       "      <td>20.0</td>\n",
       "      <td>6.0</td>\n",
       "      <td>5.0</td>\n",
       "      <td>8.0</td>\n",
       "      <td>1.0</td>\n",
       "      <td>4.0</td>\n",
       "      <td>0.0</td>\n",
       "      <td>0.0</td>\n",
       "      <td>0.0</td>\n",
       "      <td>1.0</td>\n",
       "      <td>14.0</td>\n",
       "    </tr>\n",
       "  </tbody>\n",
       "</table>\n",
       "</div>"
      ],
      "text/plain": [
       "flatmates      0       1       2       3      4      5     6     7     8    9  \\\n",
       "city                                                                            \n",
       "Barcelona  392.0  1619.0  2853.0  1638.0  504.0  100.0  61.0  20.0  13.0  5.0   \n",
       "Berlin      44.0     8.0     8.0     4.0    5.0    1.0   0.0   1.0   1.0  0.0   \n",
       "London     409.0   275.0   448.0   285.0  369.0  101.0  27.0  15.0   1.0  2.0   \n",
       "Madrid     311.0  1015.0  1715.0   874.0  305.0   69.0  44.0  20.0   6.0  5.0   \n",
       "\n",
       "flatmates   10   11   12   13   14   18   20   +10  \n",
       "city                                                \n",
       "Barcelona  5.0  0.0  2.0  4.0  2.0  0.0  0.0  13.0  \n",
       "Berlin     0.0  0.0  0.0  0.0  0.0  0.0  0.0   0.0  \n",
       "London     0.0  1.0  0.0  0.0  0.0  1.0  2.0   4.0  \n",
       "Madrid     8.0  1.0  4.0  0.0  0.0  0.0  1.0  14.0  "
      ]
     },
     "execution_count": 120,
     "metadata": {},
     "output_type": "execute_result"
    }
   ],
   "source": [
    "df_2.drop"
   ]
  },
  {
   "cell_type": "code",
   "execution_count": 100,
   "metadata": {},
   "outputs": [
    {
     "data": {
      "text/plain": [
       "Int64Index([0, 1, 2, 3, 4, 5, 6, 7, 8, 9, 10, 11, 12, 13, 14, 18, 20], dtype='int64', name='flatmates')"
      ]
     },
     "execution_count": 100,
     "metadata": {},
     "output_type": "execute_result"
    }
   ],
   "source": [
    "df['Fruit Total']= df.iloc[:, -4:-1].sum(axis=1)"
   ]
  },
  {
   "cell_type": "code",
   "execution_count": 90,
   "metadata": {},
   "outputs": [
    {
     "data": {
      "text/plain": [
       "Index(['private', 'shared'], dtype='object', name='room')"
      ]
     },
     "execution_count": 90,
     "metadata": {},
     "output_type": "execute_result"
    }
   ],
   "source": [
    "df_1.columns"
   ]
  },
  {
   "cell_type": "code",
   "execution_count": 91,
   "metadata": {
    "scrolled": true
   },
   "outputs": [
    {
     "data": {
      "image/png": "[encoded data removed]",
      "text/plain": [
       "<Figure size 432x288 with 1 Axes>"
      ]
     },
     "metadata": {
      "needs_background": "light"
     },
     "output_type": "display_data"
    }
   ],
   "source": []
  },
  {
   "cell_type": "code",
   "execution_count": 62,
   "metadata": {},
   "outputs": [
    {
     "data": {
      "text/html": [
       "<div>\n",
       "<style scoped>\n",
       "    .dataframe tbody tr th:only-of-type {\n",
       "        vertical-align: middle;\n",
       "    }\n",
       "\n",
       "    .dataframe tbody tr th {\n",
       "        vertical-align: top;\n",
       "    }\n",
       "\n",
       "    .dataframe thead th {\n",
       "        text-align: right;\n",
       "    }\n",
       "</style>\n",
       "<table border=\"1\" class=\"dataframe\">\n",
       "  <thead>\n",
       "    <tr style=\"text-align: right;\">\n",
       "      <th>room</th>\n",
       "      <th>private</th>\n",
       "      <th>shared</th>\n",
       "    </tr>\n",
       "    <tr>\n",
       "      <th>city</th>\n",
       "      <th></th>\n",
       "      <th></th>\n",
       "    </tr>\n",
       "  </thead>\n",
       "  <tbody>\n",
       "    <tr>\n",
       "      <th>Barcelona</th>\n",
       "      <td>7085</td>\n",
       "      <td>133</td>\n",
       "    </tr>\n",
       "    <tr>\n",
       "      <th>Berlin</th>\n",
       "      <td>66</td>\n",
       "      <td>6</td>\n",
       "    </tr>\n",
       "    <tr>\n",
       "      <th>London</th>\n",
       "      <td>1662</td>\n",
       "      <td>274</td>\n",
       "    </tr>\n",
       "    <tr>\n",
       "      <th>Madrid</th>\n",
       "      <td>4295</td>\n",
       "      <td>83</td>\n",
       "    </tr>\n",
       "  </tbody>\n",
       "</table>\n",
       "</div>"
      ],
      "text/plain": [
       "room       private  shared\n",
       "city                      \n",
       "Barcelona     7085     133\n",
       "Berlin          66       6\n",
       "London        1662     274\n",
       "Madrid        4295      83"
      ]
     },
     "execution_count": 62,
     "metadata": {},
     "output_type": "execute_result"
    }
   ],
   "source": [
    "df_1.plot()"
   ]
  },
  {
   "cell_type": "code",
   "execution_count": null,
   "metadata": {},
   "outputs": [],
   "source": [
    "df2[[\"\"]]"
   ]
  },
  {
   "cell_type": "code",
   "execution_count": null,
   "metadata": {},
   "outputs": [],
   "source": []
  }
 ],
 "metadata": {
  "kernelspec": {
   "display_name": "Python 3",
   "language": "python",
   "name": "python3"
  },
  "language_info": {
   "codemirror_mode": {
    "name": "ipython",
    "version": 3
   },
   "file_extension": ".py",
   "mimetype": "text/x-python",
   "name": "python",
   "nbconvert_exporter": "python",
   "pygments_lexer": "ipython3",
   "version": "3.8.3"
  },
  "toc": {
   "base_numbering": 1,
   "nav_menu": {},
   "number_sections": true,
   "sideBar": true,
   "skip_h1_title": false,
   "title_cell": "Table of Contents",
   "title_sidebar": "Contents",
   "toc_cell": false,
   "toc_position": {},
   "toc_section_display": true,
   "toc_window_display": false
  }
 },
 "nbformat": 4,
 "nbformat_minor": 4
}
