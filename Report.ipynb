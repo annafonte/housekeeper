{
 "cells": [
  {
   "cell_type": "markdown",
   "metadata": {},
   "source": [
    "# The shared-house market in Europe"
   ]
  },
  {
   "cell_type": "markdown",
   "metadata": {},
   "source": [
    "## Libraries and documents"
   ]
  },
  {
   "cell_type": "code",
   "execution_count": 1,
   "metadata": {},
   "outputs": [],
   "source": [
    "import pandas as pd\n",
    "import regex as re\n",
    "import numpy as np\n",
    "\n",
    "import warnings\n",
    "warnings.filterwarnings('ignore')\n",
    "\n",
    "import matplotlib.pyplot as plt\n",
    "import seaborn as sns\n",
    "import plotly.graph_objects as px"
   ]
  },
  {
   "cell_type": "code",
   "execution_count": 2,
   "metadata": {},
   "outputs": [],
   "source": [
    "bcn = pd.read_csv(\"../housekeeper/Data/bcn.csv\", header=None)\n",
    "madrid = pd.read_csv(\"../housekeeper/Data/madrid.csv\", header=None)\n",
    "london = pd.read_csv(\"../housekeeper/Data/london.csv\", header=None)\n",
    "berlin = pd.read_csv(\"../housekeeper/Data/berlin.csv\", header=None)"
   ]
  },
  {
   "cell_type": "markdown",
   "metadata": {},
   "source": [
    "## Data processing"
   ]
  },
  {
   "cell_type": "code",
   "execution_count": 3,
   "metadata": {
    "scrolled": true
   },
   "outputs": [],
   "source": [
    "def df_processor(df, name):\n",
    "    \"\"\" Function that takes the df with the scraped information from each city and cleans it \"\"\"\n",
    "    \n",
    "    df = df.drop_duplicates() #Dropping duplicated\n",
    "    df.columns = [\"title\", \"price\", \"details\"] #Renaming columns\n",
    "\n",
    "    df[[\"room\", \"flatmates\"]] = df[\"details\"].str.split(\"·\", n=1, expand=True) # Splitting the details column\n",
    "\n",
    "    #The flatmates column\n",
    "    df[\"flatmates\"] = df[\"flatmates\"].str.rstrip(\" COMPANYS DE PIS\")#Deleting the str \"companys de pis\"\n",
    "\n",
    "    #The room column\n",
    "    df[\"room\"] = df[\"room\"].str.lower().str.strip() #Changing str as lowercase and removing whitespaces\n",
    "    df = df.drop(columns=\"details\") #Deleting the column\n",
    "\n",
    "    #Filtering only \"private room\" & \"shared room\" as we are interested in this kind\n",
    "    values = [\"habitació compartida\", \"habitació privada\"]\n",
    "    df = df.loc[df['room'].isin(values)].copy() #Creating a copy of the df\n",
    "    df[\"room\"] = df[\"room\"].replace(\"habitació privada\", \"private\").replace(\"habitació compartida\", \"shared\")\n",
    "\n",
    "    #Dealing with the prices column\n",
    "    df[\"price\"] = df[\"price\"].str.rstrip(\" €/mes\") #Deleting final string\n",
    "    df[\"price\"] = df[\"price\"].str.rstrip(\" £/mes\")\n",
    "    df[\"price\"] = df[\"price\"].str.rstrip(\" $/mes\")\n",
    "    df[\"price\"] = [re.sub(r'\\d...','', str(x)) for x in df[\"price\"]] #Deleting strikeout format string \n",
    "    df[\"price\"] = df[\"price\"].str.lstrip(\"€̶ \") #Deleting € symbols at the begining of str\n",
    "    df[\"price\"] = df[\"price\"].str.lstrip(\"£̶ \") \n",
    "    df[\"price\"] = df[\"price\"].replace('-', np.nan) #Replacing - symbol to NaN value\n",
    "\n",
    "    df = df.dropna() #Deleting rows with null values\n",
    "    df[[\"price\", \"flatmates\"]] = df[[\"price\", \"flatmates\"]].apply(pd.to_numeric) #Changing price and nº flatmates to numeric\n",
    "    df[\"flatmates\"] = df[\"flatmates\"].fillna(0) #Set nans to 0 for nº flatmates\n",
    "    df[\"flatmates\"] = df[\"flatmates\"].astype(int)\n",
    "    df[\"city\"] = name # Create column with city name for concatenating df later\n",
    "    \n",
    "    return df"
   ]
  },
  {
   "cell_type": "code",
   "execution_count": 4,
   "metadata": {},
   "outputs": [],
   "source": [
    "# Applying the function to the cities dfs\n",
    "bcn = df_processor(bcn, \"Barcelona\")\n",
    "madrid = df_processor(madrid, \"Madrid\")\n",
    "london = df_processor(london, \"London\")\n",
    "berlin = df_processor(berlin, \"Berlin\")\n",
    "\n",
    "#Concatenating the datasets into one for analysis\n",
    "datasets = [bcn, madrid, london, berlin]\n",
    "df = pd.concat(datasets).reset_index(drop=True)\n",
    "df[\"flatmates\"] = df[\"flatmates\"] + 1 #Summing a value to get total people sharing the house\n",
    "\n",
    "#Removing outliers(prices with less than 100)\n",
    "df = df[df[\"price\"] > 100].copy()\n",
    "\n",
    "from currency_converter import CurrencyConverter #Converting the prices in from GBP to EUR\n",
    "c = CurrencyConverter()\n",
    "condition = df[\"city\"] == \"London\"\n",
    "df[\"price\"] = df['price'].where(~(condition), other=[c.convert(x, \"GBP\", \"EUR\") for x in df[\"price\"]])"
   ]
  },
  {
   "cell_type": "markdown",
   "metadata": {},
   "source": [
    "## Data analysis"
   ]
  },
  {
   "cell_type": "markdown",
   "metadata": {},
   "source": [
    "### The dataset"
   ]
  },
  {
   "cell_type": "markdown",
   "metadata": {},
   "source": [
    "With the information collected from Badi website and , the dataset contains a total of 13604 observations and 5 columns:\n",
    "- `title`: contains the title of the flat\n",
    "- `price`: contains the price in €\n",
    "- `room`: indicates if the room is private or shared\n",
    "- `flatmates`: is the number of flatmates\n",
    "- `city`: indicates the city (Barcelona, Madrin, London or Berlin)."
   ]
  },
  {
   "cell_type": "markdown",
   "metadata": {},
   "source": [
    "#### The rooms"
   ]
  },
  {
   "cell_type": "markdown",
   "metadata": {},
   "source": [
    "![alt text](rooms2.png \"Rooms\")"
   ]
  },
  {
   "cell_type": "code",
   "execution_count": null,
   "metadata": {},
   "outputs": [],
   "source": []
  },
  {
   "cell_type": "markdown",
   "metadata": {},
   "source": [
    "#### The price variable"
   ]
  },
  {
   "cell_type": "markdown",
   "metadata": {},
   "source": [
    "![alt text](prices.png \"Prices\")"
   ]
  },
  {
   "cell_type": "code",
   "execution_count": null,
   "metadata": {},
   "outputs": [],
   "source": []
  },
  {
   "cell_type": "markdown",
   "metadata": {},
   "source": [
    "#### The flatmates variable"
   ]
  },
  {
   "cell_type": "code",
   "execution_count": null,
   "metadata": {},
   "outputs": [],
   "source": []
  },
  {
   "cell_type": "markdown",
   "metadata": {},
   "source": [
    "![alt text](flatmates.png \"Flatmates\")"
   ]
  },
  {
   "cell_type": "code",
   "execution_count": null,
   "metadata": {},
   "outputs": [],
   "source": []
  }
 ],
 "metadata": {
  "kernelspec": {
   "display_name": "Python 3",
   "language": "python",
   "name": "python3"
  },
  "language_info": {
   "codemirror_mode": {
    "name": "ipython",
    "version": 3
   },
   "file_extension": ".py",
   "mimetype": "text/x-python",
   "name": "python",
   "nbconvert_exporter": "python",
   "pygments_lexer": "ipython3",
   "version": "3.8.3"
  },
  "toc": {
   "base_numbering": 1,
   "nav_menu": {},
   "number_sections": true,
   "sideBar": true,
   "skip_h1_title": false,
   "title_cell": "Table of Contents",
   "title_sidebar": "Contents",
   "toc_cell": false,
   "toc_position": {},
   "toc_section_display": true,
   "toc_window_display": false
  }
 },
 "nbformat": 4,
 "nbformat_minor": 4
}
