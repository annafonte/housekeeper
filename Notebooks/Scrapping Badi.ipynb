{
 "cells": [
  {
   "cell_type": "code",
   "execution_count": 13,
   "metadata": {},
   "outputs": [],
   "source": [
    "#Importing libraries\n",
    "import pandas as pd\n",
    "import numpy as np\n",
    "from selenium import webdriver\n",
    "from selenium.webdriver.support.ui import WebDriverWait       \n",
    "import sys\n",
    "import csv\n",
    "import time\n",
    "import requests\n",
    "from bs4 import BeautifulSoup"
   ]
  },
  {
   "cell_type": "code",
   "execution_count": 239,
   "metadata": {},
   "outputs": [
    {
     "ename": "InvalidSessionIdException",
     "evalue": "Message: invalid session id\n",
     "output_type": "error",
     "traceback": [
      "\u001b[0;31m---------------------------------------------------------------------------\u001b[0m",
      "\u001b[0;31mInvalidSessionIdException\u001b[0m                 Traceback (most recent call last)",
      "\u001b[0;32m<ipython-input-239-0921daab11ca>\u001b[0m in \u001b[0;36m<module>\u001b[0;34m\u001b[0m\n\u001b[1;32m     12\u001b[0m         \u001b[0mtime\u001b[0m\u001b[0;34m.\u001b[0m\u001b[0msleep\u001b[0m\u001b[0;34m(\u001b[0m\u001b[0;36m2\u001b[0m\u001b[0;34m)\u001b[0m\u001b[0;34m\u001b[0m\u001b[0;34m\u001b[0m\u001b[0m\n\u001b[0;32m---> 13\u001b[0;31m         \u001b[0mids\u001b[0m \u001b[0;34m=\u001b[0m \u001b[0mdriver\u001b[0m\u001b[0;34m.\u001b[0m\u001b[0mfind_elements_by_xpath\u001b[0m\u001b[0;34m(\u001b[0m\u001b[0;34m\"//*[contains(@id,'list-room-card')]\"\u001b[0m\u001b[0;34m)\u001b[0m \u001b[0;31m# Loop to find ids\u001b[0m\u001b[0;34m\u001b[0m\u001b[0;34m\u001b[0m\u001b[0m\n\u001b[0m\u001b[1;32m     14\u001b[0m         \u001b[0;32mfor\u001b[0m \u001b[0mj\u001b[0m \u001b[0;32min\u001b[0m \u001b[0mids\u001b[0m\u001b[0;34m:\u001b[0m\u001b[0;34m\u001b[0m\u001b[0;34m\u001b[0m\u001b[0m\n",
      "\u001b[0;32m/usr/local/anaconda3/lib/python3.8/site-packages/selenium/webdriver/remote/webdriver.py\u001b[0m in \u001b[0;36mfind_elements_by_xpath\u001b[0;34m(self, xpath)\u001b[0m\n\u001b[1;32m    409\u001b[0m         \"\"\"\n\u001b[0;32m--> 410\u001b[0;31m         \u001b[0;32mreturn\u001b[0m \u001b[0mself\u001b[0m\u001b[0;34m.\u001b[0m\u001b[0mfind_elements\u001b[0m\u001b[0;34m(\u001b[0m\u001b[0mby\u001b[0m\u001b[0;34m=\u001b[0m\u001b[0mBy\u001b[0m\u001b[0;34m.\u001b[0m\u001b[0mXPATH\u001b[0m\u001b[0;34m,\u001b[0m \u001b[0mvalue\u001b[0m\u001b[0;34m=\u001b[0m\u001b[0mxpath\u001b[0m\u001b[0;34m)\u001b[0m\u001b[0;34m\u001b[0m\u001b[0;34m\u001b[0m\u001b[0m\n\u001b[0m\u001b[1;32m    411\u001b[0m \u001b[0;34m\u001b[0m\u001b[0m\n",
      "\u001b[0;32m/usr/local/anaconda3/lib/python3.8/site-packages/selenium/webdriver/remote/webdriver.py\u001b[0m in \u001b[0;36mfind_elements\u001b[0;34m(self, by, value)\u001b[0m\n\u001b[1;32m   1004\u001b[0m         \u001b[0;31m# See https://github.com/SeleniumHQ/selenium/issues/4555\u001b[0m\u001b[0;34m\u001b[0m\u001b[0;34m\u001b[0m\u001b[0;34m\u001b[0m\u001b[0m\n\u001b[0;32m-> 1005\u001b[0;31m         return self.execute(Command.FIND_ELEMENTS, {\n\u001b[0m\u001b[1;32m   1006\u001b[0m             \u001b[0;34m'using'\u001b[0m\u001b[0;34m:\u001b[0m \u001b[0mby\u001b[0m\u001b[0;34m,\u001b[0m\u001b[0;34m\u001b[0m\u001b[0;34m\u001b[0m\u001b[0m\n",
      "\u001b[0;32m/usr/local/anaconda3/lib/python3.8/site-packages/selenium/webdriver/remote/webdriver.py\u001b[0m in \u001b[0;36mexecute\u001b[0;34m(self, driver_command, params)\u001b[0m\n\u001b[1;32m    320\u001b[0m         \u001b[0;32mif\u001b[0m \u001b[0mresponse\u001b[0m\u001b[0;34m:\u001b[0m\u001b[0;34m\u001b[0m\u001b[0;34m\u001b[0m\u001b[0m\n\u001b[0;32m--> 321\u001b[0;31m             \u001b[0mself\u001b[0m\u001b[0;34m.\u001b[0m\u001b[0merror_handler\u001b[0m\u001b[0;34m.\u001b[0m\u001b[0mcheck_response\u001b[0m\u001b[0;34m(\u001b[0m\u001b[0mresponse\u001b[0m\u001b[0;34m)\u001b[0m\u001b[0;34m\u001b[0m\u001b[0;34m\u001b[0m\u001b[0m\n\u001b[0m\u001b[1;32m    322\u001b[0m             response['value'] = self._unwrap_value(\n",
      "\u001b[0;32m/usr/local/anaconda3/lib/python3.8/site-packages/selenium/webdriver/remote/errorhandler.py\u001b[0m in \u001b[0;36mcheck_response\u001b[0;34m(self, response)\u001b[0m\n\u001b[1;32m    241\u001b[0m             \u001b[0;32mraise\u001b[0m \u001b[0mexception_class\u001b[0m\u001b[0;34m(\u001b[0m\u001b[0mmessage\u001b[0m\u001b[0;34m,\u001b[0m \u001b[0mscreen\u001b[0m\u001b[0;34m,\u001b[0m \u001b[0mstacktrace\u001b[0m\u001b[0;34m,\u001b[0m \u001b[0malert_text\u001b[0m\u001b[0;34m)\u001b[0m\u001b[0;34m\u001b[0m\u001b[0;34m\u001b[0m\u001b[0m\n\u001b[0;32m--> 242\u001b[0;31m         \u001b[0;32mraise\u001b[0m \u001b[0mexception_class\u001b[0m\u001b[0;34m(\u001b[0m\u001b[0mmessage\u001b[0m\u001b[0;34m,\u001b[0m \u001b[0mscreen\u001b[0m\u001b[0;34m,\u001b[0m \u001b[0mstacktrace\u001b[0m\u001b[0;34m)\u001b[0m\u001b[0;34m\u001b[0m\u001b[0;34m\u001b[0m\u001b[0m\n\u001b[0m\u001b[1;32m    243\u001b[0m \u001b[0;34m\u001b[0m\u001b[0m\n",
      "\u001b[0;31mInvalidSessionIdException\u001b[0m: Message: invalid session id\n",
      "\nDuring handling of the above exception, another exception occurred:\n",
      "\u001b[0;31mInvalidSessionIdException\u001b[0m                 Traceback (most recent call last)",
      "\u001b[0;32m<ipython-input-239-0921daab11ca>\u001b[0m in \u001b[0;36m<module>\u001b[0;34m\u001b[0m\n\u001b[1;32m     30\u001b[0m         \u001b[0mbutton\u001b[0m\u001b[0;34m.\u001b[0m\u001b[0mclick\u001b[0m\u001b[0;34m(\u001b[0m\u001b[0;34m)\u001b[0m\u001b[0;34m\u001b[0m\u001b[0;34m\u001b[0m\u001b[0m\n\u001b[1;32m     31\u001b[0m     \u001b[0;32mexcept\u001b[0m\u001b[0;34m:\u001b[0m\u001b[0;34m\u001b[0m\u001b[0;34m\u001b[0m\u001b[0m\n\u001b[0;32m---> 32\u001b[0;31m         \u001b[0mdriver\u001b[0m\u001b[0;34m.\u001b[0m\u001b[0mclose\u001b[0m\u001b[0;34m(\u001b[0m\u001b[0;34m)\u001b[0m\u001b[0;34m\u001b[0m\u001b[0;34m\u001b[0m\u001b[0m\n\u001b[0m",
      "\u001b[0;32m/usr/local/anaconda3/lib/python3.8/site-packages/selenium/webdriver/remote/webdriver.py\u001b[0m in \u001b[0;36mclose\u001b[0;34m(self)\u001b[0m\n\u001b[1;32m    686\u001b[0m             \u001b[0mdriver\u001b[0m\u001b[0;34m.\u001b[0m\u001b[0mclose\u001b[0m\u001b[0;34m(\u001b[0m\u001b[0;34m)\u001b[0m\u001b[0;34m\u001b[0m\u001b[0;34m\u001b[0m\u001b[0m\n\u001b[1;32m    687\u001b[0m         \"\"\"\n\u001b[0;32m--> 688\u001b[0;31m         \u001b[0mself\u001b[0m\u001b[0;34m.\u001b[0m\u001b[0mexecute\u001b[0m\u001b[0;34m(\u001b[0m\u001b[0mCommand\u001b[0m\u001b[0;34m.\u001b[0m\u001b[0mCLOSE\u001b[0m\u001b[0;34m)\u001b[0m\u001b[0;34m\u001b[0m\u001b[0;34m\u001b[0m\u001b[0m\n\u001b[0m\u001b[1;32m    689\u001b[0m \u001b[0;34m\u001b[0m\u001b[0m\n\u001b[1;32m    690\u001b[0m     \u001b[0;32mdef\u001b[0m \u001b[0mquit\u001b[0m\u001b[0;34m(\u001b[0m\u001b[0mself\u001b[0m\u001b[0;34m)\u001b[0m\u001b[0;34m:\u001b[0m\u001b[0;34m\u001b[0m\u001b[0;34m\u001b[0m\u001b[0m\n",
      "\u001b[0;32m/usr/local/anaconda3/lib/python3.8/site-packages/selenium/webdriver/remote/webdriver.py\u001b[0m in \u001b[0;36mexecute\u001b[0;34m(self, driver_command, params)\u001b[0m\n\u001b[1;32m    319\u001b[0m         \u001b[0mresponse\u001b[0m \u001b[0;34m=\u001b[0m \u001b[0mself\u001b[0m\u001b[0;34m.\u001b[0m\u001b[0mcommand_executor\u001b[0m\u001b[0;34m.\u001b[0m\u001b[0mexecute\u001b[0m\u001b[0;34m(\u001b[0m\u001b[0mdriver_command\u001b[0m\u001b[0;34m,\u001b[0m \u001b[0mparams\u001b[0m\u001b[0;34m)\u001b[0m\u001b[0;34m\u001b[0m\u001b[0;34m\u001b[0m\u001b[0m\n\u001b[1;32m    320\u001b[0m         \u001b[0;32mif\u001b[0m \u001b[0mresponse\u001b[0m\u001b[0;34m:\u001b[0m\u001b[0;34m\u001b[0m\u001b[0;34m\u001b[0m\u001b[0m\n\u001b[0;32m--> 321\u001b[0;31m             \u001b[0mself\u001b[0m\u001b[0;34m.\u001b[0m\u001b[0merror_handler\u001b[0m\u001b[0;34m.\u001b[0m\u001b[0mcheck_response\u001b[0m\u001b[0;34m(\u001b[0m\u001b[0mresponse\u001b[0m\u001b[0;34m)\u001b[0m\u001b[0;34m\u001b[0m\u001b[0;34m\u001b[0m\u001b[0m\n\u001b[0m\u001b[1;32m    322\u001b[0m             response['value'] = self._unwrap_value(\n\u001b[1;32m    323\u001b[0m                 response.get('value', None))\n",
      "\u001b[0;32m/usr/local/anaconda3/lib/python3.8/site-packages/selenium/webdriver/remote/errorhandler.py\u001b[0m in \u001b[0;36mcheck_response\u001b[0;34m(self, response)\u001b[0m\n\u001b[1;32m    240\u001b[0m                 \u001b[0malert_text\u001b[0m \u001b[0;34m=\u001b[0m \u001b[0mvalue\u001b[0m\u001b[0;34m[\u001b[0m\u001b[0;34m'alert'\u001b[0m\u001b[0;34m]\u001b[0m\u001b[0;34m.\u001b[0m\u001b[0mget\u001b[0m\u001b[0;34m(\u001b[0m\u001b[0;34m'text'\u001b[0m\u001b[0;34m)\u001b[0m\u001b[0;34m\u001b[0m\u001b[0;34m\u001b[0m\u001b[0m\n\u001b[1;32m    241\u001b[0m             \u001b[0;32mraise\u001b[0m \u001b[0mexception_class\u001b[0m\u001b[0;34m(\u001b[0m\u001b[0mmessage\u001b[0m\u001b[0;34m,\u001b[0m \u001b[0mscreen\u001b[0m\u001b[0;34m,\u001b[0m \u001b[0mstacktrace\u001b[0m\u001b[0;34m,\u001b[0m \u001b[0malert_text\u001b[0m\u001b[0;34m)\u001b[0m\u001b[0;34m\u001b[0m\u001b[0;34m\u001b[0m\u001b[0m\n\u001b[0;32m--> 242\u001b[0;31m         \u001b[0;32mraise\u001b[0m \u001b[0mexception_class\u001b[0m\u001b[0;34m(\u001b[0m\u001b[0mmessage\u001b[0m\u001b[0;34m,\u001b[0m \u001b[0mscreen\u001b[0m\u001b[0;34m,\u001b[0m \u001b[0mstacktrace\u001b[0m\u001b[0;34m)\u001b[0m\u001b[0;34m\u001b[0m\u001b[0;34m\u001b[0m\u001b[0m\n\u001b[0m\u001b[1;32m    243\u001b[0m \u001b[0;34m\u001b[0m\u001b[0m\n\u001b[1;32m    244\u001b[0m     \u001b[0;32mdef\u001b[0m \u001b[0m_value_or_default\u001b[0m\u001b[0;34m(\u001b[0m\u001b[0mself\u001b[0m\u001b[0;34m,\u001b[0m \u001b[0mobj\u001b[0m\u001b[0;34m,\u001b[0m \u001b[0mkey\u001b[0m\u001b[0;34m,\u001b[0m \u001b[0mdefault\u001b[0m\u001b[0;34m)\u001b[0m\u001b[0;34m:\u001b[0m\u001b[0;34m\u001b[0m\u001b[0;34m\u001b[0m\u001b[0m\n",
      "\u001b[0;31mInvalidSessionIdException\u001b[0m: Message: invalid session id\n"
     ]
    }
   ],
   "source": [
    "path_to_file = \"/Users/annafonte/Documents/Projects/housekeeper/berlin.csv\"\n",
    "csvFile = open(path_to_file, 'a')\n",
    "csvWriter = csv.writer(csvFile)\n",
    "\n",
    "path = \"/Users/annafonte/Documents/Projects/housekeeper/chromedriver\"\n",
    "driver = webdriver.Chrome(path)\n",
    "driver.get('https://badi.com/ca/s/Berlin--Germany?et-search-source=main-city-button&bounds=52.6754542,13.7611175;52.338234,13.088346&center=52.52000659999999,13.404954&token=eyJwYWdlIjoyLCJwZXIiOjIwLCJvZmZzZXQiOjB9&d=29.492229608521775&city=Berl%C3%ADn&pid=ChIJAVkDPzdOqEcRcDteW0YgIQQ&z=10')\n",
    "num_pages=2000\n",
    "\n",
    "for i in range(num_pages):\n",
    "    try: \n",
    "        time.sleep(2)\n",
    "        ids = driver.find_elements_by_xpath(\"//*[contains(@id,'list-room-card')]\") # Loop to find ids\n",
    "        for j in ids:\n",
    "            room_ids = []\n",
    "            room_ids.append(j.get_attribute('id'))\n",
    "\n",
    "            for room in room_ids:\n",
    "                title = driver.find_element_by_xpath('//*[@id=\"'+room+'\"]/a/div[3]/div[2]/h4').text\n",
    "                price = driver.find_element_by_xpath('//*[@id=\"'+room+'\"]/a/div[3]/div[3]/div/div/div[1]/div/div/div[2]/p').text\n",
    "                flatmates = driver.find_element_by_xpath('//*[@id=\"'+room+'\"]/a/div[3]/div[1]/p').text\n",
    "                #bills = driver.find_element_by_xpath('//*[@id=\"'+room+'\"]/a/div[3]/div[3]/div/div/div[2]/div/div/div[2]/p').text   \n",
    "                csvWriter.writerow([title, price, flatmates])\n",
    "\n",
    "        time.sleep(2)\n",
    "        try:\n",
    "            button = driver.find_element_by_xpath('//*[@id=\"search-rooms-list\"]/div[21]/div/div/button[2]')\n",
    "        except:\n",
    "            button = driver.find_element_by_xpath('//*[@id=\"search-rooms-list\"]/div[22]/div/div/button[2]')\n",
    "        button.click()\n",
    "    except:\n",
    "        driver.close()"
   ]
  },
  {
   "cell_type": "code",
   "execution_count": 240,
   "metadata": {},
   "outputs": [],
   "source": [
    "berlin = pd.read_csv(\"../housekeeper/berlin.csv\", header=None)"
   ]
  },
  {
   "cell_type": "code",
   "execution_count": 242,
   "metadata": {},
   "outputs": [
    {
     "data": {
      "text/html": [
       "<div>\n",
       "<style scoped>\n",
       "    .dataframe tbody tr th:only-of-type {\n",
       "        vertical-align: middle;\n",
       "    }\n",
       "\n",
       "    .dataframe tbody tr th {\n",
       "        vertical-align: top;\n",
       "    }\n",
       "\n",
       "    .dataframe thead th {\n",
       "        text-align: right;\n",
       "    }\n",
       "</style>\n",
       "<table border=\"1\" class=\"dataframe\">\n",
       "  <thead>\n",
       "    <tr style=\"text-align: right;\">\n",
       "      <th></th>\n",
       "      <th>0</th>\n",
       "      <th>1</th>\n",
       "      <th>2</th>\n",
       "    </tr>\n",
       "  </thead>\n",
       "  <tbody>\n",
       "    <tr>\n",
       "      <th>0</th>\n",
       "      <td>22m* Single Apartment, 9th floor View over eas...</td>\n",
       "      <td>320 €/mes</td>\n",
       "      <td>HABITACIÓ PRIVADA · CAP COMPANY DE PIS</td>\n",
       "    </tr>\n",
       "    <tr>\n",
       "      <th>1</th>\n",
       "      <td>Family Apartments in Friedrichshain with Anmel...</td>\n",
       "      <td>1.150 €/mes</td>\n",
       "      <td>ALLOTJAMENT SENCER · 60 M²</td>\n",
       "    </tr>\n",
       "    <tr>\n",
       "      <th>2</th>\n",
       "      <td>Furnished Studio in Berlin Mitte with Balcony</td>\n",
       "      <td>1.000 €/mes</td>\n",
       "      <td>ALLOTJAMENT SENCER · 25 M²</td>\n",
       "    </tr>\n",
       "    <tr>\n",
       "      <th>3</th>\n",
       "      <td>Berlin gemütliche 2-Zi Whg in Grunewald</td>\n",
       "      <td>2.250 €/mes</td>\n",
       "      <td>ALLOTJAMENT SENCER · 50 M²</td>\n",
       "    </tr>\n",
       "    <tr>\n",
       "      <th>4</th>\n",
       "      <td>nice room in amazing flat 150 qm 4 room flat</td>\n",
       "      <td>5̶9̶0̶ ̶€̶ 580 €/mes</td>\n",
       "      <td>HABITACIÓ PRIVADA · 4 COMPANYS DE PIS</td>\n",
       "    </tr>\n",
       "    <tr>\n",
       "      <th>...</th>\n",
       "      <td>...</td>\n",
       "      <td>...</td>\n",
       "      <td>...</td>\n",
       "    </tr>\n",
       "    <tr>\n",
       "      <th>160</th>\n",
       "      <td>Neon Wood Mitte-Wedding - Classic Long E1</td>\n",
       "      <td>650 €/mes</td>\n",
       "      <td>ALLOTJAMENT SENCER · 17 M²</td>\n",
       "    </tr>\n",
       "    <tr>\n",
       "      <th>161</th>\n",
       "      <td>Neon Wood Frankfurter Tor - Deluxe Balcony E5</td>\n",
       "      <td>915 €/mes</td>\n",
       "      <td>ALLOTJAMENT SENCER · 24 M²</td>\n",
       "    </tr>\n",
       "    <tr>\n",
       "      <th>162</th>\n",
       "      <td>Neon Wood Frankfurter Tor - Deluxe Balcony E4</td>\n",
       "      <td>895 €/mes</td>\n",
       "      <td>ALLOTJAMENT SENCER · 24 M²</td>\n",
       "    </tr>\n",
       "    <tr>\n",
       "      <th>163</th>\n",
       "      <td>Neon Wood Frankfurter Tor - Double Deluxe E5</td>\n",
       "      <td>1.155 €/mes</td>\n",
       "      <td>ALLOTJAMENT SENCER · 35 M²</td>\n",
       "    </tr>\n",
       "    <tr>\n",
       "      <th>164</th>\n",
       "      <td>Neon Wood Frankfurter Tor - Double Deluxe E4</td>\n",
       "      <td>1.125 €/mes</td>\n",
       "      <td>ALLOTJAMENT SENCER · 35 M²</td>\n",
       "    </tr>\n",
       "  </tbody>\n",
       "</table>\n",
       "<p>165 rows × 3 columns</p>\n",
       "</div>"
      ],
      "text/plain": [
       "                                                     0                     1  \\\n",
       "0    22m* Single Apartment, 9th floor View over eas...             320 €/mes   \n",
       "1    Family Apartments in Friedrichshain with Anmel...           1.150 €/mes   \n",
       "2        Furnished Studio in Berlin Mitte with Balcony           1.000 €/mes   \n",
       "3              Berlin gemütliche 2-Zi Whg in Grunewald           2.250 €/mes   \n",
       "4         nice room in amazing flat 150 qm 4 room flat  5̶9̶0̶ ̶€̶ 580 €/mes   \n",
       "..                                                 ...                   ...   \n",
       "160          Neon Wood Mitte-Wedding - Classic Long E1             650 €/mes   \n",
       "161      Neon Wood Frankfurter Tor - Deluxe Balcony E5             915 €/mes   \n",
       "162      Neon Wood Frankfurter Tor - Deluxe Balcony E4             895 €/mes   \n",
       "163       Neon Wood Frankfurter Tor - Double Deluxe E5           1.155 €/mes   \n",
       "164       Neon Wood Frankfurter Tor - Double Deluxe E4           1.125 €/mes   \n",
       "\n",
       "                                          2  \n",
       "0    HABITACIÓ PRIVADA · CAP COMPANY DE PIS  \n",
       "1                ALLOTJAMENT SENCER · 60 M²  \n",
       "2                ALLOTJAMENT SENCER · 25 M²  \n",
       "3                ALLOTJAMENT SENCER · 50 M²  \n",
       "4     HABITACIÓ PRIVADA · 4 COMPANYS DE PIS  \n",
       "..                                      ...  \n",
       "160              ALLOTJAMENT SENCER · 17 M²  \n",
       "161              ALLOTJAMENT SENCER · 24 M²  \n",
       "162              ALLOTJAMENT SENCER · 24 M²  \n",
       "163              ALLOTJAMENT SENCER · 35 M²  \n",
       "164              ALLOTJAMENT SENCER · 35 M²  \n",
       "\n",
       "[165 rows x 3 columns]"
      ]
     },
     "execution_count": 242,
     "metadata": {},
     "output_type": "execute_result"
    }
   ],
   "source": [
    "berlin"
   ]
  },
  {
   "cell_type": "code",
   "execution_count": null,
   "metadata": {},
   "outputs": [],
   "source": []
  },
  {
   "cell_type": "code",
   "execution_count": null,
   "metadata": {},
   "outputs": [],
   "source": []
  },
  {
   "cell_type": "code",
   "execution_count": null,
   "metadata": {},
   "outputs": [],
   "source": []
  },
  {
   "cell_type": "code",
   "execution_count": 198,
   "metadata": {},
   "outputs": [],
   "source": [
    "# No modificar és BO!\n",
    "path_to_file = \"/Users/annafonte/Documents/Projects/housekeeper/data.csv\"\n",
    "csvFile = open(path_to_file, 'a')\n",
    "csvWriter = csv.writer(csvFile)\n",
    "\n",
    "path = \"/Users/annafonte/Documents/Projects/housekeeper/chromedriver\"\n",
    "driver = webdriver.Chrome(path)\n",
    "driver.get('https://badi.com/ca/s/Barcelona--Espanya?bounds=41.46957607668864%2C2.228009940794638%3B41.32000404256846%2C2.069525775337128&center=41.3850639%2C2.1734035&d=10.632383081504605&city=Barcelona&pid=ChIJ5TCOcRaYpBIRCmZHTz37sEQ&z=12&et-search-source-screen=home-page&et-search-source=search-bar')\n",
    "\n",
    "ids = driver.find_elements_by_xpath(\"//*[contains(@id,'list-room-card')]\") # Loop to find ids\n",
    "room_ids = []\n",
    "for i in ids:\n",
    "    room_ids.append(i.get_attribute('id'))\n",
    "\n",
    "for room in room_ids:\n",
    "    title = driver.find_element_by_xpath('//*[@id=\"'+room+'\"]/a/div[3]/div[2]/h4').text\n",
    "    price = driver.find_element_by_xpath('//*[@id=\"'+room+'\"]/a/div[3]/div[3]/div/div/div[1]/div/div/div[2]/p').text\n",
    "    flatmates = driver.find_element_by_xpath('//*[@id=\"'+room+'\"]/a/div[3]/div[1]/p').text\n",
    "    #bills = driver.find_element_by_xpath('//*[@id=\"'+room+'\"]/a/div[3]/div[3]/div/div/div[2]/div/div/div[2]/p').text   \n",
    "    csvWriter.writerow([title, price, flatmates])\n",
    "\n",
    "driver.close()\n",
    "    #time.sleep(4)\n",
    "    #button = driver.find_element_by_xpath('//*[@id=\"search-rooms-list\"]/div[22]/div/div/button')\n",
    "    #driver.execute_script(\"arguments[0].click();\", button)\n",
    "    "
   ]
  },
  {
   "cell_type": "code",
   "execution_count": null,
   "metadata": {},
   "outputs": [],
   "source": [
    "elem = driver.find_elements_by_xpath(\".//*[@id='SORM_TB_ACTION0']\")\n",
    "\n",
    "if len(elem) > 0\n",
    "    elem[0].click()"
   ]
  },
  {
   "cell_type": "code",
   "execution_count": 158,
   "metadata": {},
   "outputs": [
    {
     "data": {
      "text/plain": [
       "'HABITACIÓ PRIVADA · 4 COMPANYS DE PIS'"
      ]
     },
     "execution_count": 158,
     "metadata": {},
     "output_type": "execute_result"
    }
   ],
   "source": [
    "driver.find_element_by_xpath('//*[@id=\"'+room+'\"]/a/div[3]/div[1]/p').text"
   ]
  },
  {
   "cell_type": "code",
   "execution_count": 150,
   "metadata": {},
   "outputs": [],
   "source": [
    "for room in room_ids:\n",
    "    try:\n",
    "        bills = driver.find_element_by_xpath('//*[@id=\"'+room+'\"]/a/div[3]/div[3]/div/div/div[2]/div/div/div[2]/p').text\n",
    "    except:\n",
    "        pass\n",
    "    csvWriter.writerow(bills)\n",
    "    "
   ]
  },
  {
   "cell_type": "code",
   "execution_count": null,
   "metadata": {},
   "outputs": [],
   "source": [
    "//*[@id=\"list-room-card-803554\"]/a/div[3]/div[3]/div/div/div[2]/div/div/div[2]/p"
   ]
  },
  {
   "cell_type": "code",
   "execution_count": null,
   "metadata": {},
   "outputs": [],
   "source": []
  },
  {
   "cell_type": "code",
   "execution_count": null,
   "metadata": {},
   "outputs": [],
   "source": []
  },
  {
   "cell_type": "code",
   "execution_count": null,
   "metadata": {},
   "outputs": [],
   "source": []
  },
  {
   "cell_type": "code",
   "execution_count": null,
   "metadata": {},
   "outputs": [],
   "source": []
  }
 ],
 "metadata": {
  "kernelspec": {
   "display_name": "Python 3",
   "language": "python",
   "name": "python3"
  },
  "language_info": {
   "codemirror_mode": {
    "name": "ipython",
    "version": 3
   },
   "file_extension": ".py",
   "mimetype": "text/x-python",
   "name": "python",
   "nbconvert_exporter": "python",
   "pygments_lexer": "ipython3",
   "version": "3.8.3"
  },
  "toc": {
   "base_numbering": 1,
   "nav_menu": {},
   "number_sections": true,
   "sideBar": true,
   "skip_h1_title": false,
   "title_cell": "Table of Contents",
   "title_sidebar": "Contents",
   "toc_cell": false,
   "toc_position": {},
   "toc_section_display": true,
   "toc_window_display": false
  }
 },
 "nbformat": 4,
 "nbformat_minor": 4
}
