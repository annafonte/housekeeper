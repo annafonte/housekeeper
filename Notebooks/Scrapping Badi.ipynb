{
 "cells": [
  {
   "cell_type": "code",
   "execution_count": 1,
   "metadata": {},
   "outputs": [],
   "source": [
    "#Importing libraries\n",
    "import pandas as pd\n",
    "import numpy as np\n",
    "from selenium import webdriver\n",
    "from selenium.webdriver.support.ui import WebDriverWait       \n",
    "import sys\n",
    "import csv\n",
    "import time\n",
    "import requests\n",
    "from bs4 import BeautifulSoup"
   ]
  },
  {
   "cell_type": "code",
   "execution_count": null,
   "metadata": {},
   "outputs": [],
   "source": [
    "path_to_file = \"/Users/annafonte/Documents/Projects/housekeeper/Data/berlin.csv\"\n",
    "csvFile = open(path_to_file, 'a')\n",
    "csvWriter = csv.writer(csvFile)\n",
    "\n",
    "path = \"/Users/annafonte/Documents/Projects/housekeeper/Notebooks/chromedriver\"\n",
    "driver = webdriver.Chrome(path)\n",
    "driver.get('https://badi.com/ca/s/Berlin--Germany?et-search-source=main-city-button&bounds=52.6754542,13.7611175;52.338234,13.088346&center=52.52000659999999,13.404954&token=eyJwYWdlIjoyLCJwZXIiOjIwLCJvZmZzZXQiOjB9&d=29.492229608521775&city=Berl%C3%ADn&pid=ChIJAVkDPzdOqEcRcDteW0YgIQQ&z=10')\n",
    "num_pages=2000\n",
    "\n",
    "for i in range(num_pages):\n",
    "    try: \n",
    "        time.sleep(3)\n",
    "        ids = driver.find_elements_by_xpath(\"//*[contains(@id,'list-room-card')]\") # Loop to find ids\n",
    "        for j in ids:\n",
    "            room_ids = []\n",
    "            room_ids.append(j.get_attribute('id'))\n",
    "\n",
    "            for room in room_ids:\n",
    "                title = driver.find_element_by_xpath('//*[@id=\"'+room+'\"]/a/div[3]/div[2]/h4').text\n",
    "                price = driver.find_element_by_xpath('//*[@id=\"'+room+'\"]/a/div[3]/div[3]/div/div/div[1]/div/div/div[2]/p').text\n",
    "                flatmates = driver.find_element_by_xpath('//*[@id=\"'+room+'\"]/a/div[3]/div[1]/p').text\n",
    "                #bills = driver.find_element_by_xpath('//*[@id=\"'+room+'\"]/a/div[3]/div[3]/div/div/div[2]/div/div/div[2]/p').text   \n",
    "                csvWriter.writerow([title, price, flatmates])\n",
    "\n",
    "        time.sleep(2)\n",
    "        try:\n",
    "            button = driver.find_element_by_xpath('//*[@id=\"search-rooms-list\"]/div[21]/div/div/button[2]')\n",
    "        except:\n",
    "            button = driver.find_element_by_xpath('//*[@id=\"search-rooms-list\"]/div[22]/div/div/button[2]')\n",
    "        button.click()\n",
    "    except:\n",
    "        pass\n",
    "driver.close()"
   ]
  },
  {
   "cell_type": "code",
   "execution_count": 3,
   "metadata": {},
   "outputs": [],
   "source": [
    "berlin = pd.read_csv(\"../Data/berlin.csv\", header=None)"
   ]
  },
  {
   "cell_type": "code",
   "execution_count": null,
   "metadata": {},
   "outputs": [],
   "source": []
  },
  {
   "cell_type": "code",
   "execution_count": null,
   "metadata": {},
   "outputs": [],
   "source": []
  },
  {
   "cell_type": "code",
   "execution_count": null,
   "metadata": {},
   "outputs": [],
   "source": []
  },
  {
   "cell_type": "code",
   "execution_count": null,
   "metadata": {},
   "outputs": [],
   "source": [
    "# No modificar és BO!\n",
    "path_to_file = \"/Users/annafonte/Documents/Projects/housekeeper/data.csv\"\n",
    "csvFile = open(path_to_file, 'a')\n",
    "csvWriter = csv.writer(csvFile)\n",
    "\n",
    "path = \"/Users/annafonte/Documents/Projects/housekeeper/chromedriver\"\n",
    "driver = webdriver.Chrome(path)\n",
    "driver.get('https://badi.com/ca/s/Barcelona--Espanya?bounds=41.46957607668864%2C2.228009940794638%3B41.32000404256846%2C2.069525775337128&center=41.3850639%2C2.1734035&d=10.632383081504605&city=Barcelona&pid=ChIJ5TCOcRaYpBIRCmZHTz37sEQ&z=12&et-search-source-screen=home-page&et-search-source=search-bar')\n",
    "\n",
    "ids = driver.find_elements_by_xpath(\"//*[contains(@id,'list-room-card')]\") # Loop to find ids\n",
    "room_ids = []\n",
    "for i in ids:\n",
    "    room_ids.append(i.get_attribute('id'))\n",
    "\n",
    "for room in room_ids:\n",
    "    title = driver.find_element_by_xpath('//*[@id=\"'+room+'\"]/a/div[3]/div[2]/h4').text\n",
    "    price = driver.find_element_by_xpath('//*[@id=\"'+room+'\"]/a/div[3]/div[3]/div/div/div[1]/div/div/div[2]/p').text\n",
    "    flatmates = driver.find_element_by_xpath('//*[@id=\"'+room+'\"]/a/div[3]/div[1]/p').text\n",
    "    #bills = driver.find_element_by_xpath('//*[@id=\"'+room+'\"]/a/div[3]/div[3]/div/div/div[2]/div/div/div[2]/p').text   \n",
    "    csvWriter.writerow([title, price, flatmates])\n",
    "\n",
    "driver.close()\n",
    "    #time.sleep(4)\n",
    "    #button = driver.find_element_by_xpath('//*[@id=\"search-rooms-list\"]/div[22]/div/div/button')\n",
    "    #driver.execute_script(\"arguments[0].click();\", button)\n",
    "    "
   ]
  },
  {
   "cell_type": "code",
   "execution_count": null,
   "metadata": {},
   "outputs": [],
   "source": [
    "elem = driver.find_elements_by_xpath(\".//*[@id='SORM_TB_ACTION0']\")\n",
    "\n",
    "if len(elem) > 0\n",
    "    elem[0].click()"
   ]
  },
  {
   "cell_type": "code",
   "execution_count": null,
   "metadata": {},
   "outputs": [],
   "source": [
    "driver.find_element_by_xpath('//*[@id=\"'+room+'\"]/a/div[3]/div[1]/p').text"
   ]
  },
  {
   "cell_type": "code",
   "execution_count": null,
   "metadata": {},
   "outputs": [],
   "source": [
    "for room in room_ids:\n",
    "    try:\n",
    "        bills = driver.find_element_by_xpath('//*[@id=\"'+room+'\"]/a/div[3]/div[3]/div/div/div[2]/div/div/div[2]/p').text\n",
    "    except:\n",
    "        pass\n",
    "    csvWriter.writerow(bills)\n",
    "    "
   ]
  },
  {
   "cell_type": "code",
   "execution_count": null,
   "metadata": {},
   "outputs": [],
   "source": [
    "//*[@id=\"list-room-card-803554\"]/a/div[3]/div[3]/div/div/div[2]/div/div/div[2]/p"
   ]
  },
  {
   "cell_type": "code",
   "execution_count": null,
   "metadata": {},
   "outputs": [],
   "source": []
  },
  {
   "cell_type": "code",
   "execution_count": null,
   "metadata": {},
   "outputs": [],
   "source": []
  },
  {
   "cell_type": "code",
   "execution_count": null,
   "metadata": {},
   "outputs": [],
   "source": []
  },
  {
   "cell_type": "code",
   "execution_count": null,
   "metadata": {},
   "outputs": [],
   "source": []
  }
 ],
 "metadata": {
  "kernelspec": {
   "display_name": "Python 3",
   "language": "python",
   "name": "python3"
  },
  "language_info": {
   "codemirror_mode": {
    "name": "ipython",
    "version": 3
   },
   "file_extension": ".py",
   "mimetype": "text/x-python",
   "name": "python",
   "nbconvert_exporter": "python",
   "pygments_lexer": "ipython3",
   "version": "3.8.3"
  },
  "toc": {
   "base_numbering": 1,
   "nav_menu": {},
   "number_sections": true,
   "sideBar": true,
   "skip_h1_title": false,
   "title_cell": "Table of Contents",
   "title_sidebar": "Contents",
   "toc_cell": false,
   "toc_position": {},
   "toc_section_display": true,
   "toc_window_display": false
  }
 },
 "nbformat": 4,
 "nbformat_minor": 4
}
